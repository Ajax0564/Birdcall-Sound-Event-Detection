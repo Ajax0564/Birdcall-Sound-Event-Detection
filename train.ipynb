{
 "cells": [
  {
   "cell_type": "code",
   "execution_count": 1,
   "metadata": {
    "_kg_hide-input": true,
    "_kg_hide-output": true,
    "execution": {
     "iopub.execute_input": "2020-08-17T09:02:53.895630Z",
     "iopub.status.busy": "2020-08-17T09:02:53.894843Z",
     "iopub.status.idle": "2020-08-17T09:03:24.248474Z",
     "shell.execute_reply": "2020-08-17T09:03:24.247397Z"
    },
    "papermill": {
     "duration": 30.372726,
     "end_time": "2020-08-17T09:03:24.248617",
     "exception": false,
     "start_time": "2020-08-17T09:02:53.875891",
     "status": "completed"
    },
    "tags": []
   },
   "outputs": [
    {
     "name": "stdout",
     "output_type": "stream",
     "text": [
      "Processing /kaggle/input/efficientnet/EfficientNet-PyTorch-master\r\n",
      "Requirement already satisfied: torch in /opt/conda/lib/python3.7/site-packages (from efficientnet-pytorch==0.7.0) (1.5.1)\r\n",
      "Requirement already satisfied: future in /opt/conda/lib/python3.7/site-packages (from torch->efficientnet-pytorch==0.7.0) (0.18.2)\r\n",
      "Requirement already satisfied: numpy in /opt/conda/lib/python3.7/site-packages (from torch->efficientnet-pytorch==0.7.0) (1.18.5)\r\n",
      "Building wheels for collected packages: efficientnet-pytorch\r\n",
      "  Building wheel for efficientnet-pytorch (setup.py) ... \u001b[?25l-\b \b\\\b \bdone\r\n",
      "\u001b[?25h  Created wheel for efficientnet-pytorch: filename=efficientnet_pytorch-0.7.0-py3-none-any.whl size=20139 sha256=9c12f5d0b2701bb527e6c63f79249f0dfcbf8d8acf86522ada6f20fba533ab53\r\n",
      "  Stored in directory: /root/.cache/pip/wheels/b8/19/b9/77a444bb2bd1e95e7c5e547c97f8f895c711f0a91553122d6d\r\n",
      "Successfully built efficientnet-pytorch\r\n",
      "Installing collected packages: efficientnet-pytorch\r\n",
      "Successfully installed efficientnet-pytorch-0.7.0\r\n"
     ]
    }
   ],
   "source": [
    "!pip install ../input/efficientnet/EfficientNet-PyTorch-master/"
   ]
  },
  {
   "cell_type": "code",
   "execution_count": 2,
   "metadata": {
    "execution": {
     "iopub.execute_input": "2020-08-17T09:03:24.287859Z",
     "iopub.status.busy": "2020-08-17T09:03:24.286840Z",
     "iopub.status.idle": "2020-08-17T09:08:35.123967Z",
     "shell.execute_reply": "2020-08-17T09:08:35.123352Z"
    },
    "papermill": {
     "duration": 310.858107,
     "end_time": "2020-08-17T09:08:35.124125",
     "exception": false,
     "start_time": "2020-08-17T09:03:24.266018",
     "status": "completed"
    },
    "tags": []
   },
   "outputs": [
    {
     "name": "stdout",
     "output_type": "stream",
     "text": [
      "/opt/conda/lib/python3.7/site-packages/pip/_internal/commands/install.py:243: UserWarning: Disabling all use of wheels due to the use of --build-option / --global-option / --install-option.\r\n",
      "  cmdoptions.check_install_build_global(options)\r\n",
      "Processing /kaggle/input/nvidiaapex\r\n",
      "Skipping wheel build for apex, due to binaries being disabled for it.\r\n",
      "Installing collected packages: apex\r\n",
      "    Running setup.py install for apex ... \u001b[?25l-\b \b\\\b \b|\b \b/\b \b-\b \b\\\b \b|\b \b/\b \b-\b \b\\\b \b|\b \b/\b \b-\b \b\\\b \b|\b \b/\b \b-\b \b\\\b \b|\b \b/\b \b-\b \bdone\r\n",
      "\u001b[?25hSuccessfully installed apex-0.1\r\n"
     ]
    }
   ],
   "source": [
    "!pip install --no-cache-dir --global-option=\"--cpp_ext\" --global-option=\"--cuda_ext\" ../input/nvidiaapex/."
   ]
  },
  {
   "cell_type": "code",
   "execution_count": 3,
   "metadata": {
    "execution": {
     "iopub.execute_input": "2020-08-17T09:08:35.180130Z",
     "iopub.status.busy": "2020-08-17T09:08:35.176126Z",
     "iopub.status.idle": "2020-08-17T09:08:35.830655Z",
     "shell.execute_reply": "2020-08-17T09:08:35.830118Z"
    },
    "papermill": {
     "duration": 0.682496,
     "end_time": "2020-08-17T09:08:35.830827",
     "exception": false,
     "start_time": "2020-08-17T09:08:35.148331",
     "status": "completed"
    },
    "tags": []
   },
   "outputs": [],
   "source": [
    "!rm -rf ./*"
   ]
  },
  {
   "cell_type": "code",
   "execution_count": 4,
   "metadata": {
    "_cell_guid": "b1076dfc-b9ad-4769-8c92-a6c4dae69d19",
    "_uuid": "8f2839f25d086af736a60e9eeb907d3b93b6e0e5",
    "execution": {
     "iopub.execute_input": "2020-08-17T09:08:35.894354Z",
     "iopub.status.busy": "2020-08-17T09:08:35.893206Z",
     "iopub.status.idle": "2020-08-17T09:08:38.562379Z",
     "shell.execute_reply": "2020-08-17T09:08:38.561321Z"
    },
    "papermill": {
     "duration": 2.708706,
     "end_time": "2020-08-17T09:08:38.562513",
     "exception": false,
     "start_time": "2020-08-17T09:08:35.853807",
     "status": "completed"
    },
    "tags": []
   },
   "outputs": [],
   "source": [
    "import os\n",
    "import gc\n",
    "import time\n",
    "import shutil\n",
    "import random\n",
    "import warnings\n",
    "import typing as tp\n",
    "from pathlib import Path\n",
    "from contextlib import contextmanager\n",
    "import matplotlib.pyplot as plt\n",
    "import warnings\n",
    "from datetime import datetime\n",
    "from glob import glob\n",
    "from joblib import delayed, Parallel\n",
    "\n",
    "import cv2\n",
    "import librosa\n",
    "import audioread\n",
    "import soundfile as sf\n",
    "import librosa.display \n",
    "\n",
    "import numpy as np\n",
    "import pandas as pd\n",
    "\n",
    "from sklearn.metrics import f1_score\n",
    "from sklearn.model_selection import StratifiedKFold\n",
    "\n",
    "import torch\n",
    "import torch.nn as nn\n",
    "import torch.nn.functional as F\n",
    "import torch.utils.data as data\n",
    "\n",
    "from efficientnet_pytorch import EfficientNet\n",
    "from apex import amp"
   ]
  },
  {
   "cell_type": "code",
   "execution_count": 5,
   "metadata": {
    "execution": {
     "iopub.execute_input": "2020-08-17T09:08:38.619046Z",
     "iopub.status.busy": "2020-08-17T09:08:38.617185Z",
     "iopub.status.idle": "2020-08-17T09:08:38.619744Z",
     "shell.execute_reply": "2020-08-17T09:08:38.620212Z"
    },
    "papermill": {
     "duration": 0.034365,
     "end_time": "2020-08-17T09:08:38.620376",
     "exception": false,
     "start_time": "2020-08-17T09:08:38.586011",
     "status": "completed"
    },
    "tags": []
   },
   "outputs": [],
   "source": [
    "class config:\n",
    "    \n",
    "    n_mels = 128\n",
    "    fmin = 20\n",
    "    fmax = 16000\n",
    "    period = 5\n",
    "    image_size = 224\n",
    "    num_fold = 5\n",
    "    num_class = 264\n",
    "    num_workers = 2\n",
    "    \n",
    "    ####################\n",
    "    #training parameters\n",
    "    ####################\n",
    "    verbose = True\n",
    "    verbose_step = 1\n",
    "    folder = 'effnet'\n",
    "    use_mixup = True\n",
    "    use_amp = True\n",
    "    accumulate_steps = 1\n",
    "    batch_size = 50\n",
    "    lr = 3e-4\n",
    "    n_epochs = 15\n",
    "    loss_fn = nn.BCEWithLogitsLoss()\n",
    "    weight_decay = 1e-6\n",
    "    \n",
    "    step_scheduler = False\n",
    "    validation_scheduler = True\n",
    "    SchedulerClass = torch.optim.lr_scheduler.CosineAnnealingLR\n",
    "    scheduler_params = dict(\n",
    "        T_max=n_epochs\n",
    "    )"
   ]
  },
  {
   "cell_type": "code",
   "execution_count": 6,
   "metadata": {
    "_cell_guid": "79c7e3d0-c299-4dcb-8224-4455121ee9b0",
    "_uuid": "d629ff2d2480ee46fbb7e2d37f6b5fab8052498a",
    "execution": {
     "iopub.execute_input": "2020-08-17T09:08:38.673347Z",
     "iopub.status.busy": "2020-08-17T09:08:38.672652Z",
     "iopub.status.idle": "2020-08-17T09:08:38.678321Z",
     "shell.execute_reply": "2020-08-17T09:08:38.677847Z"
    },
    "papermill": {
     "duration": 0.034509,
     "end_time": "2020-08-17T09:08:38.678419",
     "exception": false,
     "start_time": "2020-08-17T09:08:38.643910",
     "status": "completed"
    },
    "tags": []
   },
   "outputs": [],
   "source": [
    "def set_seed(seed: int = 42):\n",
    "    random.seed(seed)\n",
    "    np.random.seed(seed)\n",
    "    os.environ[\"PYTHONHASHSEED\"] = str(seed)\n",
    "    torch.manual_seed(seed)\n",
    "    torch.cuda.manual_seed(seed)\n",
    "\n",
    "set_seed()\n",
    "warnings.filterwarnings(\"ignore\")"
   ]
  },
  {
   "cell_type": "code",
   "execution_count": 7,
   "metadata": {
    "execution": {
     "iopub.execute_input": "2020-08-17T09:08:38.735572Z",
     "iopub.status.busy": "2020-08-17T09:08:38.734729Z",
     "iopub.status.idle": "2020-08-17T09:08:39.006833Z",
     "shell.execute_reply": "2020-08-17T09:08:39.005627Z"
    },
    "papermill": {
     "duration": 0.305155,
     "end_time": "2020-08-17T09:08:39.006969",
     "exception": false,
     "start_time": "2020-08-17T09:08:38.701814",
     "status": "completed"
    },
    "tags": []
   },
   "outputs": [],
   "source": [
    "ROOT = Path.cwd().parent\n",
    "INPUT_ROOT = ROOT / \"input\"\n",
    "RAW_DATA = INPUT_ROOT / \"birdsong-recognition\"\n",
    "TRAIN_AUDIO_DIR = RAW_DATA / \"train_audio\"\n",
    "TRAIN_RESAMPLED_AUDIO_DIRS = [\n",
    "    INPUT_ROOT / \"birdsong-resampled-train-audio-{:0>2}\".format(i)  for i in range(5)\n",
    "]\n",
    "TEST_AUDIO_DIR = RAW_DATA / \"test_audio\"\n",
    "\n",
    "train = pd.read_csv(TRAIN_RESAMPLED_AUDIO_DIRS[0] / \"train_mod.csv\")\n",
    "\n",
    "if not TEST_AUDIO_DIR.exists():\n",
    "    TEST_AUDIO_DIR = INPUT_ROOT / \"birdcall-check\" / \"test_audio\"\n",
    "    test = pd.read_csv(INPUT_ROOT / \"birdcall-check\" / \"test.csv\")\n",
    "else:\n",
    "    test = pd.read_csv(RAW_DATA / \"test.csv\")"
   ]
  },
  {
   "cell_type": "markdown",
   "execution_count": null,
   "metadata": {
    "papermill": {
     "duration": 0.02374,
     "end_time": "2020-08-17T09:08:39.054668",
     "exception": false,
     "start_time": "2020-08-17T09:08:39.030928",
     "status": "completed"
    },
    "tags": []
   },
   "source": [
    "## Split Train/Val DataSet"
   ]
  },
  {
   "cell_type": "code",
   "execution_count": 8,
   "metadata": {
    "execution": {
     "iopub.execute_input": "2020-08-17T09:08:39.110992Z",
     "iopub.status.busy": "2020-08-17T09:08:39.110212Z",
     "iopub.status.idle": "2020-08-17T09:08:40.118392Z",
     "shell.execute_reply": "2020-08-17T09:08:40.119396Z"
    },
    "papermill": {
     "duration": 1.041442,
     "end_time": "2020-08-17T09:08:40.119577",
     "exception": false,
     "start_time": "2020-08-17T09:08:39.078135",
     "status": "completed"
    },
    "tags": []
   },
   "outputs": [
    {
     "name": "stdout",
     "output_type": "stream",
     "text": [
      "(21375, 38)\n",
      "(21375, 3)\n",
      "(21375, 39)\n"
     ]
    }
   ],
   "source": [
    "tmp_list = []\n",
    "for audio_d in TRAIN_RESAMPLED_AUDIO_DIRS:\n",
    "    if not audio_d.exists():\n",
    "        continue\n",
    "    for ebird_d in audio_d.iterdir():\n",
    "        if ebird_d.is_file():\n",
    "            continue\n",
    "        for wav_f in ebird_d.iterdir():\n",
    "            tmp_list.append([ebird_d.name, wav_f.name, wav_f.as_posix()])\n",
    "            \n",
    "train_wav_path_exist = pd.DataFrame(\n",
    "    tmp_list, columns=[\"ebird_code\", \"resampled_filename\", \"file_path\"])\n",
    "\n",
    "del tmp_list\n",
    "\n",
    "train_all = pd.merge(\n",
    "    train, train_wav_path_exist, on=[\"ebird_code\", \"resampled_filename\"], how=\"inner\")\n",
    "\n",
    "print(train.shape)\n",
    "print(train_wav_path_exist.shape)\n",
    "print(train_all.shape)"
   ]
  },
  {
   "cell_type": "code",
   "execution_count": 9,
   "metadata": {
    "execution": {
     "iopub.execute_input": "2020-08-17T09:08:40.224659Z",
     "iopub.status.busy": "2020-08-17T09:08:40.219724Z",
     "iopub.status.idle": "2020-08-17T09:08:40.324037Z",
     "shell.execute_reply": "2020-08-17T09:08:40.323044Z"
    },
    "papermill": {
     "duration": 0.169677,
     "end_time": "2020-08-17T09:08:40.324159",
     "exception": false,
     "start_time": "2020-08-17T09:08:40.154482",
     "status": "completed"
    },
    "tags": []
   },
   "outputs": [
    {
     "name": "stdout",
     "output_type": "stream",
     "text": [
      "(264, 5)\n"
     ]
    }
   ],
   "source": [
    "skf = StratifiedKFold(config.num_fold)\n",
    "\n",
    "train_all[\"fold\"] = -1\n",
    "for fold_id, (train_index, val_index) in enumerate(skf.split(train_all, train_all[\"ebird_code\"])):\n",
    "    train_all.iloc[val_index, -1] = fold_id\n",
    "    \n",
    "# # check the propotion\n",
    "fold_proportion = pd.pivot_table(train_all, index=\"ebird_code\", \n",
    "                                 columns=\"fold\", values=\"xc_id\", aggfunc=len)\n",
    "print(fold_proportion.shape)"
   ]
  },
  {
   "cell_type": "code",
   "execution_count": 10,
   "metadata": {
    "execution": {
     "iopub.execute_input": "2020-08-17T09:08:40.383675Z",
     "iopub.status.busy": "2020-08-17T09:08:40.383088Z",
     "iopub.status.idle": "2020-08-17T09:08:40.428968Z",
     "shell.execute_reply": "2020-08-17T09:08:40.429799Z"
    },
    "papermill": {
     "duration": 0.080757,
     "end_time": "2020-08-17T09:08:40.430036",
     "exception": false,
     "start_time": "2020-08-17T09:08:40.349279",
     "status": "completed"
    },
    "tags": []
   },
   "outputs": [
    {
     "name": "stdout",
     "output_type": "stream",
     "text": [
      "[fold 2] train: 17100, val: 4275\n"
     ]
    }
   ],
   "source": [
    "use_fold = 2\n",
    "train_file_list = train_all.query(\"fold != @use_fold\")[[\"file_path\", \"ebird_code\"]].values.tolist()\n",
    "val_file_list = train_all.query(\"fold == @use_fold\")[[\"file_path\", \"ebird_code\"]].values.tolist()\n",
    "\n",
    "print(\"[fold {}] train: {}, val: {}\".format(use_fold, len(train_file_list), len(val_file_list)))"
   ]
  },
  {
   "cell_type": "markdown",
   "execution_count": null,
   "metadata": {
    "papermill": {
     "duration": 0.023956,
     "end_time": "2020-08-17T09:08:40.483323",
     "exception": false,
     "start_time": "2020-08-17T09:08:40.459367",
     "status": "completed"
    },
    "tags": []
   },
   "source": [
    "## Make Labels Dectionary"
   ]
  },
  {
   "cell_type": "code",
   "execution_count": 11,
   "metadata": {
    "_kg_hide-output": true,
    "execution": {
     "iopub.execute_input": "2020-08-17T09:08:40.572128Z",
     "iopub.status.busy": "2020-08-17T09:08:40.570247Z",
     "iopub.status.idle": "2020-08-17T09:08:40.572846Z",
     "shell.execute_reply": "2020-08-17T09:08:40.573310Z"
    },
    "papermill": {
     "duration": 0.065908,
     "end_time": "2020-08-17T09:08:40.573432",
     "exception": false,
     "start_time": "2020-08-17T09:08:40.507524",
     "status": "completed"
    },
    "tags": []
   },
   "outputs": [],
   "source": [
    "#https://www.kaggle.com/ttahara/training-birdsong-baseline-resnest50-fast\n",
    "BIRD_CODE = {\n",
    "    'aldfly': 0, 'ameavo': 1, 'amebit': 2, 'amecro': 3, 'amegfi': 4,\n",
    "    'amekes': 5, 'amepip': 6, 'amered': 7, 'amerob': 8, 'amewig': 9,\n",
    "    'amewoo': 10, 'amtspa': 11, 'annhum': 12, 'astfly': 13, 'baisan': 14,\n",
    "    'baleag': 15, 'balori': 16, 'banswa': 17, 'barswa': 18, 'bawwar': 19,\n",
    "    'belkin1': 20, 'belspa2': 21, 'bewwre': 22, 'bkbcuc': 23, 'bkbmag1': 24,\n",
    "    'bkbwar': 25, 'bkcchi': 26, 'bkchum': 27, 'bkhgro': 28, 'bkpwar': 29,\n",
    "    'bktspa': 30, 'blkpho': 31, 'blugrb1': 32, 'blujay': 33, 'bnhcow': 34,\n",
    "    'boboli': 35, 'bongul': 36, 'brdowl': 37, 'brebla': 38, 'brespa': 39,\n",
    "    'brncre': 40, 'brnthr': 41, 'brthum': 42, 'brwhaw': 43, 'btbwar': 44,\n",
    "    'btnwar': 45, 'btywar': 46, 'buffle': 47, 'buggna': 48, 'buhvir': 49,\n",
    "    'bulori': 50, 'bushti': 51, 'buwtea': 52, 'buwwar': 53, 'cacwre': 54,\n",
    "    'calgul': 55, 'calqua': 56, 'camwar': 57, 'cangoo': 58, 'canwar': 59,\n",
    "    'canwre': 60, 'carwre': 61, 'casfin': 62, 'caster1': 63, 'casvir': 64,\n",
    "    'cedwax': 65, 'chispa': 66, 'chiswi': 67, 'chswar': 68, 'chukar': 69,\n",
    "    'clanut': 70, 'cliswa': 71, 'comgol': 72, 'comgra': 73, 'comloo': 74,\n",
    "    'commer': 75, 'comnig': 76, 'comrav': 77, 'comred': 78, 'comter': 79,\n",
    "    'comyel': 80, 'coohaw': 81, 'coshum': 82, 'cowscj1': 83, 'daejun': 84,\n",
    "    'doccor': 85, 'dowwoo': 86, 'dusfly': 87, 'eargre': 88, 'easblu': 89,\n",
    "    'easkin': 90, 'easmea': 91, 'easpho': 92, 'eastow': 93, 'eawpew': 94,\n",
    "    'eucdov': 95, 'eursta': 96, 'evegro': 97, 'fiespa': 98, 'fiscro': 99,\n",
    "    'foxspa': 100, 'gadwal': 101, 'gcrfin': 102, 'gnttow': 103, 'gnwtea': 104,\n",
    "    'gockin': 105, 'gocspa': 106, 'goleag': 107, 'grbher3': 108, 'grcfly': 109,\n",
    "    'greegr': 110, 'greroa': 111, 'greyel': 112, 'grhowl': 113, 'grnher': 114,\n",
    "    'grtgra': 115, 'grycat': 116, 'gryfly': 117, 'haiwoo': 118, 'hamfly': 119,\n",
    "    'hergul': 120, 'herthr': 121, 'hoomer': 122, 'hoowar': 123, 'horgre': 124,\n",
    "    'horlar': 125, 'houfin': 126, 'houspa': 127, 'houwre': 128, 'indbun': 129,\n",
    "    'juntit1': 130, 'killde': 131, 'labwoo': 132, 'larspa': 133, 'lazbun': 134,\n",
    "    'leabit': 135, 'leafly': 136, 'leasan': 137, 'lecthr': 138, 'lesgol': 139,\n",
    "    'lesnig': 140, 'lesyel': 141, 'lewwoo': 142, 'linspa': 143, 'lobcur': 144,\n",
    "    'lobdow': 145, 'logshr': 146, 'lotduc': 147, 'louwat': 148, 'macwar': 149,\n",
    "    'magwar': 150, 'mallar3': 151, 'marwre': 152, 'merlin': 153, 'moublu': 154,\n",
    "    'mouchi': 155, 'moudov': 156, 'norcar': 157, 'norfli': 158, 'norhar2': 159,\n",
    "    'normoc': 160, 'norpar': 161, 'norpin': 162, 'norsho': 163, 'norwat': 164,\n",
    "    'nrwswa': 165, 'nutwoo': 166, 'olsfly': 167, 'orcwar': 168, 'osprey': 169,\n",
    "    'ovenbi1': 170, 'palwar': 171, 'pasfly': 172, 'pecsan': 173, 'perfal': 174,\n",
    "    'phaino': 175, 'pibgre': 176, 'pilwoo': 177, 'pingro': 178, 'pinjay': 179,\n",
    "    'pinsis': 180, 'pinwar': 181, 'plsvir': 182, 'prawar': 183, 'purfin': 184,\n",
    "    'pygnut': 185, 'rebmer': 186, 'rebnut': 187, 'rebsap': 188, 'rebwoo': 189,\n",
    "    'redcro': 190, 'redhea': 191, 'reevir1': 192, 'renpha': 193, 'reshaw': 194,\n",
    "    'rethaw': 195, 'rewbla': 196, 'ribgul': 197, 'rinduc': 198, 'robgro': 199,\n",
    "    'rocpig': 200, 'rocwre': 201, 'rthhum': 202, 'ruckin': 203, 'rudduc': 204,\n",
    "    'rufgro': 205, 'rufhum': 206, 'rusbla': 207, 'sagspa1': 208, 'sagthr': 209,\n",
    "    'savspa': 210, 'saypho': 211, 'scatan': 212, 'scoori': 213, 'semplo': 214,\n",
    "    'semsan': 215, 'sheowl': 216, 'shshaw': 217, 'snobun': 218, 'snogoo': 219,\n",
    "    'solsan': 220, 'sonspa': 221, 'sora': 222, 'sposan': 223, 'spotow': 224,\n",
    "    'stejay': 225, 'swahaw': 226, 'swaspa': 227, 'swathr': 228, 'treswa': 229,\n",
    "    'truswa': 230, 'tuftit': 231, 'tunswa': 232, 'veery': 233, 'vesspa': 234,\n",
    "    'vigswa': 235, 'warvir': 236, 'wesblu': 237, 'wesgre': 238, 'weskin': 239,\n",
    "    'wesmea': 240, 'wessan': 241, 'westan': 242, 'wewpew': 243, 'whbnut': 244,\n",
    "    'whcspa': 245, 'whfibi': 246, 'whtspa': 247, 'whtswi': 248, 'wilfly': 249,\n",
    "    'wilsni1': 250, 'wiltur': 251, 'winwre3': 252, 'wlswar': 253, 'wooduc': 254,\n",
    "    'wooscj2': 255, 'woothr': 256, 'y00475': 257, 'yebfly': 258, 'yebsap': 259,\n",
    "    'yehbla': 260, 'yelwar': 261, 'yerwar': 262, 'yetvir': 263\n",
    "}\n",
    "\n",
    "INV_BIRD_CODE = {v: k for k, v in BIRD_CODE.items()}"
   ]
  },
  {
   "cell_type": "markdown",
   "execution_count": null,
   "metadata": {
    "papermill": {
     "duration": 0.023535,
     "end_time": "2020-08-17T09:08:40.620979",
     "exception": false,
     "start_time": "2020-08-17T09:08:40.597444",
     "status": "completed"
    },
    "tags": []
   },
   "source": [
    "## Define DataLoader"
   ]
  },
  {
   "cell_type": "code",
   "execution_count": 12,
   "metadata": {
    "execution": {
     "iopub.execute_input": "2020-08-17T09:08:40.688323Z",
     "iopub.status.busy": "2020-08-17T09:08:40.687456Z",
     "iopub.status.idle": "2020-08-17T09:08:40.692379Z",
     "shell.execute_reply": "2020-08-17T09:08:40.691887Z"
    },
    "papermill": {
     "duration": 0.047498,
     "end_time": "2020-08-17T09:08:40.692481",
     "exception": false,
     "start_time": "2020-08-17T09:08:40.644983",
     "status": "completed"
    },
    "tags": []
   },
   "outputs": [],
   "source": [
    "def spectrogram_to_color(X, mean=None, std=None, norm_max=None, norm_min=None, eps=1e-6):\n",
    "    # Stack X as [X,X,X]\n",
    "    X = np.stack([X, X, X], axis=-1)\n",
    "\n",
    "    # Standardize\n",
    "    mean = mean or X.mean()\n",
    "    std = std or X.std()\n",
    "    Xstd = (X - mean) / (std + eps)\n",
    "    _min, _max = Xstd.min(), Xstd.max()\n",
    "    norm_max = norm_max or _max\n",
    "    norm_min = norm_min or _min\n",
    "    if (_max - _min) > eps:\n",
    "        V = Xstd\n",
    "        V[V < norm_min] = norm_min\n",
    "        V[V > norm_max] = norm_max\n",
    "        V = 255 * (V - norm_min) / (norm_max - norm_min)\n",
    "        V = V.astype(np.uint8)\n",
    "    else:\n",
    "        V = np.zeros_like(Xstd, dtype=np.uint8)\n",
    "    return V\n",
    "\n",
    "\n",
    "def add_white_noise(x, rate=0.002):\n",
    "    return x + rate*np.random.randn(len(x))\n",
    "\n",
    "def extract_melspectrogram(path, augmentation=True, display=False):\n",
    "\n",
    "    wave, sr = sf.read(path)\n",
    "    effective_length = sr * config.period\n",
    "    if len(wave) < effective_length:\n",
    "        new_wave = np.zeros(effective_length, dtype=wave.dtype)\n",
    "        start = np.random.randint(effective_length - len(wave))\n",
    "        new_wave[start:start + len(wave)] = wave\n",
    "        wave = new_wave.astype(np.float32)\n",
    "    elif len(wave) > effective_length:\n",
    "        start = np.random.randint(len(wave) - effective_length)\n",
    "        wave = wave[start:start + effective_length].astype(np.float32)\n",
    "    else:\n",
    "        wave= wave.astype(np.float32)\n",
    "    \n",
    "    #if augmentation:\n",
    "        #if random.random() < 0.5:\n",
    "            #wave =  add_white_noise(wave)\n",
    "    \n",
    "    melspectrogram = librosa.feature.melspectrogram(wave, sr,\n",
    "                                                    n_mels=config.n_mels, fmin=config.fmin,\n",
    "                                                    fmax=config.fmax)\n",
    "    melspectrogram = librosa.power_to_db(melspectrogram)\n",
    "    melspectrogram = melspectrogram.astype(np.float32)\n",
    "\n",
    "    if display:\n",
    "        librosa.display.specshow(melspectrogram, y_axis='mel', x_axis='time')\n",
    "\n",
    "    return spectrogram_to_color(melspectrogram)"
   ]
  },
  {
   "cell_type": "code",
   "execution_count": 13,
   "metadata": {
    "execution": {
     "iopub.execute_input": "2020-08-17T09:08:40.745826Z",
     "iopub.status.busy": "2020-08-17T09:08:40.745155Z",
     "iopub.status.idle": "2020-08-17T09:08:40.749285Z",
     "shell.execute_reply": "2020-08-17T09:08:40.748818Z"
    },
    "papermill": {
     "duration": 0.032779,
     "end_time": "2020-08-17T09:08:40.749384",
     "exception": false,
     "start_time": "2020-08-17T09:08:40.716605",
     "status": "completed"
    },
    "tags": []
   },
   "outputs": [],
   "source": [
    "def time_shift_spectrogram(spectrogram):\n",
    "    \n",
    "    \n",
    "    \"\"\" \n",
    "    https://github.com/johnmartinsson/bird-species-classification/wiki/Data-Augmentation\n",
    "    Shift a spectrogram along the time axis in the spectral-domain at random\n",
    "    \"\"\"\n",
    "    nb_cols = spectrogram.shape[1]\n",
    "    nb_shifts = np.random.randint(0, nb_cols)\n",
    "\n",
    "    return np.roll(spectrogram, nb_shifts, axis=1)"
   ]
  },
  {
   "cell_type": "code",
   "execution_count": 14,
   "metadata": {
    "execution": {
     "iopub.execute_input": "2020-08-17T09:08:40.803437Z",
     "iopub.status.busy": "2020-08-17T09:08:40.802761Z",
     "iopub.status.idle": "2020-08-17T09:08:40.806152Z",
     "shell.execute_reply": "2020-08-17T09:08:40.805657Z"
    },
    "papermill": {
     "duration": 0.032861,
     "end_time": "2020-08-17T09:08:40.806251",
     "exception": false,
     "start_time": "2020-08-17T09:08:40.773390",
     "status": "completed"
    },
    "tags": []
   },
   "outputs": [],
   "source": [
    "def pitch_shift_spectrogram(spectrogram):\n",
    "    \"\"\" \n",
    "    https://github.com/johnmartinsson/bird-species-classification/wiki/Data-Augmentation\n",
    "    Shift a spectrogram along the frequency axis in the spectral-domain at random\n",
    "    \"\"\"\n",
    "    nb_cols = spectrogram.shape[0]\n",
    "    max_shifts = nb_cols//20 # around 5% shift\n",
    "    nb_shifts = np.random.randint(-max_shifts, max_shifts)\n",
    "\n",
    "    return np.roll(spectrogram, nb_shifts, axis=0)"
   ]
  },
  {
   "cell_type": "code",
   "execution_count": 15,
   "metadata": {
    "execution": {
     "iopub.execute_input": "2020-08-17T09:08:40.863019Z",
     "iopub.status.busy": "2020-08-17T09:08:40.862247Z",
     "iopub.status.idle": "2020-08-17T09:08:40.865572Z",
     "shell.execute_reply": "2020-08-17T09:08:40.865010Z"
    },
    "papermill": {
     "duration": 0.035672,
     "end_time": "2020-08-17T09:08:40.865663",
     "exception": false,
     "start_time": "2020-08-17T09:08:40.829991",
     "status": "completed"
    },
    "tags": []
   },
   "outputs": [],
   "source": [
    "def same_class_augmentation(spectrogram, ebrid_code, file_list):\n",
    "    \n",
    "    \"\"\"\n",
    "    modified from \n",
    "    https://github.com/johnmartinsson/bird-species-classification/wiki/Data-Augmentation\n",
    "    \n",
    "    \"\"\"\n",
    "    \n",
    "    same_cls_idx = np.where(np.array(file_list)[:, 1] == ebrid_code)[0]\n",
    "    aug_sig_index = np.random.choice(same_cls_idx, 1, replace=False)[0]\n",
    "    wav_path, _ = file_list[aug_sig_index]\n",
    "    image = extract_melspectrogram(wav_path)\n",
    "    height, width, _ = image.shape\n",
    "    image = cv2.resize(image, (int(width * config.image_size / height), config.image_size))\n",
    "    aug_sig= (image / 255.0).astype(np.float32)\n",
    "    alpha = np.random.rand()\n",
    "    wave = (1.0-alpha)*spectrogram + alpha*aug_sig\n",
    "    \n",
    "    return wave"
   ]
  },
  {
   "cell_type": "code",
   "execution_count": 16,
   "metadata": {
    "execution": {
     "iopub.execute_input": "2020-08-17T09:08:40.922417Z",
     "iopub.status.busy": "2020-08-17T09:08:40.921734Z",
     "iopub.status.idle": "2020-08-17T09:08:40.924905Z",
     "shell.execute_reply": "2020-08-17T09:08:40.925351Z"
    },
    "papermill": {
     "duration": 0.03562,
     "end_time": "2020-08-17T09:08:40.925465",
     "exception": false,
     "start_time": "2020-08-17T09:08:40.889845",
     "status": "completed"
    },
    "tags": []
   },
   "outputs": [],
   "source": [
    "def freq_mask(spec, F=30, num_masks=1, replace_with_zero=False):\n",
    "    \"\"\"\n",
    "    https://ai.googleblog.com/2019/04/specaugment-new-data-augmentation.html\n",
    "    \"\"\"\n",
    "    cloned = spec.copy()\n",
    "    num_mel_channels = cloned.shape[0] #H\n",
    "    \n",
    "    for i in range(0, num_masks):        \n",
    "        f = random.randrange(0, F)\n",
    "        f_zero = random.randrange(0, num_mel_channels - f)\n",
    "\n",
    "        # avoids randrange error if values are equal and range is empty\n",
    "        if (f_zero == f_zero + f): \n",
    "            return cloned\n",
    "\n",
    "        mask_end = random.randrange(f_zero, f_zero + f) \n",
    "        if (replace_with_zero): \n",
    "            cloned[f_zero:mask_end,:,:] = 0\n",
    "        else: \n",
    "            cloned[f_zero:mask_end,:,:] = cloned.mean()\n",
    "    \n",
    "    return cloned"
   ]
  },
  {
   "cell_type": "code",
   "execution_count": 17,
   "metadata": {
    "execution": {
     "iopub.execute_input": "2020-08-17T09:08:40.983663Z",
     "iopub.status.busy": "2020-08-17T09:08:40.982158Z",
     "iopub.status.idle": "2020-08-17T09:08:40.984605Z",
     "shell.execute_reply": "2020-08-17T09:08:40.985182Z"
    },
    "papermill": {
     "duration": 0.035837,
     "end_time": "2020-08-17T09:08:40.985300",
     "exception": false,
     "start_time": "2020-08-17T09:08:40.949463",
     "status": "completed"
    },
    "tags": []
   },
   "outputs": [],
   "source": [
    "def time_mask(spec, T=40, num_masks=1, replace_with_zero=False):\n",
    "    \n",
    "    cloned = spec.copy() #(224, 547, 3)\n",
    "    len_spectro = cloned.shape[1] #(547)\n",
    "    \n",
    "    for i in range(0, num_masks):\n",
    "        t = random.randrange(0, T)\n",
    "        t_zero = random.randrange(0, len_spectro - t)\n",
    "\n",
    "        # avoids randrange error if values are equal and range is empty\n",
    "        if (t_zero == t_zero + t): \n",
    "            return cloned\n",
    "\n",
    "        mask_end = random.randrange(t_zero, t_zero + t)\n",
    "        if (replace_with_zero):\n",
    "            cloned[:,t_zero:mask_end, :] = 0\n",
    "        else: \n",
    "            cloned[:,t_zero:mask_end, :] = cloned.mean()\n",
    "            \n",
    "    return cloned"
   ]
  },
  {
   "cell_type": "code",
   "execution_count": 18,
   "metadata": {
    "execution": {
     "iopub.execute_input": "2020-08-17T09:08:41.047033Z",
     "iopub.status.busy": "2020-08-17T09:08:41.046301Z",
     "iopub.status.idle": "2020-08-17T09:08:41.053339Z",
     "shell.execute_reply": "2020-08-17T09:08:41.052876Z"
    },
    "papermill": {
     "duration": 0.043979,
     "end_time": "2020-08-17T09:08:41.053431",
     "exception": false,
     "start_time": "2020-08-17T09:08:41.009452",
     "status": "completed"
    },
    "tags": []
   },
   "outputs": [],
   "source": [
    "class birddataset(data.Dataset):\n",
    "    \"\"\"\n",
    "    Based On\n",
    "    https://www.kaggle.com/ttahara/training-birdsong-baseline-resnest50-fast/data?\n",
    "    \"\"\"\n",
    "    \n",
    "    def __init__(self, file_list, img_size, test=False, augmentation=True, label_smooth=True):\n",
    "        \n",
    "        self.file_list = file_list\n",
    "        self.img_size = img_size\n",
    "        self.label_smooth = label_smooth\n",
    "        self.test = test\n",
    "        self.augmentation = augmentation\n",
    " \n",
    "    def __len__(self):\n",
    "        return len(self.file_list)\n",
    "    \n",
    "    def __getitem__(self, idx: int):\n",
    "        \n",
    "        wav_path, ebird_code = self.file_list[idx]\n",
    "        image = extract_melspectrogram(wav_path)\n",
    "        height, width, _ = image.shape\n",
    "        image = cv2.resize(image, (int(width * self.img_size / height), self.img_size))\n",
    "        image = (image / 255.0).astype(np.float32)\n",
    "        \n",
    "        if self.augmentation and self.test == False:\n",
    "            if random.random() < 0.5:\n",
    "                image = time_shift_spectrogram(image)\n",
    "            else:\n",
    "                image = pitch_shift_spectrogram(image)\n",
    "            \n",
    "            if random.random() < 0.5:\n",
    "                image = freq_mask(image, num_masks=2)\n",
    "            if random.random() < 0.5:\n",
    "                image = time_mask(image, num_masks=2)\n",
    "        \n",
    "        image = torch.from_numpy(image).permute(2, 0, 1) #(C, H, W)\n",
    "        \n",
    "        labels = np.zeros(len(BIRD_CODE), dtype=\"f\")\n",
    "        labels[BIRD_CODE[ebird_code]] = 1\n",
    "        if self.label_smooth and self.test == False:\n",
    "            labels = self.make_label_smooth(labels, num_classes=config.num_class)\n",
    "        \n",
    "        return image, labels\n",
    "    \n",
    "    def make_label_smooth(self, labels, num_classes, epsilon=0.1):\n",
    "        b = np.ones(num_classes) * (1 / num_classes)\n",
    "        return (1 - epsilon) * labels + epsilon * b "
   ]
  },
  {
   "cell_type": "code",
   "execution_count": 19,
   "metadata": {
    "execution": {
     "iopub.execute_input": "2020-08-17T09:08:41.108005Z",
     "iopub.status.busy": "2020-08-17T09:08:41.107371Z",
     "iopub.status.idle": "2020-08-17T09:08:41.287000Z",
     "shell.execute_reply": "2020-08-17T09:08:41.287505Z"
    },
    "papermill": {
     "duration": 0.209837,
     "end_time": "2020-08-17T09:08:41.287641",
     "exception": false,
     "start_time": "2020-08-17T09:08:41.077804",
     "status": "completed"
    },
    "tags": []
   },
   "outputs": [
    {
     "data": {
      "image/png": "[encoded data removed]",
      "text/plain": [
       "<Figure size 576x576 with 1 Axes>"
      ]
     },
     "metadata": {
      "needs_background": "light"
     },
     "output_type": "display_data"
    }
   ],
   "source": [
    "images, labels = birddataset(train_file_list, config.image_size)[14]\n",
    "sample = images.permute(1,2,0).cpu().numpy()\n",
    "fig, ax = plt.subplots(1, 1, figsize=(8, 8))\n",
    "\n",
    "ax.set_axis_off()\n",
    "ax.imshow(sample);"
   ]
  },
  {
   "cell_type": "markdown",
   "execution_count": null,
   "metadata": {
    "papermill": {
     "duration": 0.024962,
     "end_time": "2020-08-17T09:08:41.337771",
     "exception": false,
     "start_time": "2020-08-17T09:08:41.312809",
     "status": "completed"
    },
    "tags": []
   },
   "source": [
    "## Define Model"
   ]
  },
  {
   "cell_type": "code",
   "execution_count": 20,
   "metadata": {
    "execution": {
     "iopub.execute_input": "2020-08-17T09:08:41.398156Z",
     "iopub.status.busy": "2020-08-17T09:08:41.392271Z",
     "iopub.status.idle": "2020-08-17T09:08:42.066240Z",
     "shell.execute_reply": "2020-08-17T09:08:42.065642Z"
    },
    "papermill": {
     "duration": 0.703511,
     "end_time": "2020-08-17T09:08:42.066359",
     "exception": false,
     "start_time": "2020-08-17T09:08:41.362848",
     "status": "completed"
    },
    "tags": []
   },
   "outputs": [
    {
     "name": "stdout",
     "output_type": "stream",
     "text": [
      "ls: cannot access '../input/efficientnet-b1-fold1/effnet/last-checkpoint.bin': No such file or directory\r\n"
     ]
    }
   ],
   "source": [
    "!ls ../input/efficientnet-b1-fold1/effnet/last-checkpoint.bin"
   ]
  },
  {
   "cell_type": "code",
   "execution_count": 21,
   "metadata": {
    "execution": {
     "iopub.execute_input": "2020-08-17T09:08:42.127278Z",
     "iopub.status.busy": "2020-08-17T09:08:42.125509Z",
     "iopub.status.idle": "2020-08-17T09:08:42.128006Z",
     "shell.execute_reply": "2020-08-17T09:08:42.128475Z"
    },
    "papermill": {
     "duration": 0.036164,
     "end_time": "2020-08-17T09:08:42.128593",
     "exception": false,
     "start_time": "2020-08-17T09:08:42.092429",
     "status": "completed"
    },
    "tags": []
   },
   "outputs": [],
   "source": [
    "def get_model(model_num, weight_path, num_classes, dropout_rate=0.5):\n",
    "    \n",
    "    model = EfficientNet.from_name('efficientnet-b{}'.format(model_num))\n",
    "    model.load_state_dict(torch.load(weight_path))\n",
    "    in_features = model._fc.in_features\n",
    "    model._fc = nn.Sequential(nn.Dropout(dropout_rate), nn.Linear(in_features, num_classes))\n",
    " \n",
    "    model.cuda()\n",
    "    \n",
    "    return model"
   ]
  },
  {
   "cell_type": "markdown",
   "execution_count": null,
   "metadata": {
    "papermill": {
     "duration": 0.027963,
     "end_time": "2020-08-17T09:08:42.182045",
     "exception": false,
     "start_time": "2020-08-17T09:08:42.154082",
     "status": "completed"
    },
    "tags": []
   },
   "source": [
    "## Define Trainer"
   ]
  },
  {
   "cell_type": "code",
   "execution_count": 22,
   "metadata": {
    "execution": {
     "iopub.execute_input": "2020-08-17T09:08:42.246445Z",
     "iopub.status.busy": "2020-08-17T09:08:42.245475Z",
     "iopub.status.idle": "2020-08-17T09:08:42.248432Z",
     "shell.execute_reply": "2020-08-17T09:08:42.248931Z"
    },
    "papermill": {
     "duration": 0.039227,
     "end_time": "2020-08-17T09:08:42.249062",
     "exception": false,
     "start_time": "2020-08-17T09:08:42.209835",
     "status": "completed"
    },
    "tags": []
   },
   "outputs": [],
   "source": [
    "class AverageMeter(object):\n",
    "    \"\"\"Computes and stores the average and current value\"\"\"\n",
    "    def __init__(self):\n",
    "        self.reset()\n",
    "\n",
    "    def reset(self):\n",
    "        self.val = 0\n",
    "        self.avg = 0\n",
    "        self.sum = 0\n",
    "        self.count = 0\n",
    "\n",
    "    def update(self, val, n=1):\n",
    "        self.val = val\n",
    "        self.sum += val * n\n",
    "        self.count += n\n",
    "        self.avg = self.sum / self.count"
   ]
  },
  {
   "cell_type": "code",
   "execution_count": 23,
   "metadata": {
    "execution": {
     "iopub.execute_input": "2020-08-17T09:08:42.316240Z",
     "iopub.status.busy": "2020-08-17T09:08:42.305571Z",
     "iopub.status.idle": "2020-08-17T09:08:42.356218Z",
     "shell.execute_reply": "2020-08-17T09:08:42.355655Z"
    },
    "papermill": {
     "duration": 0.079133,
     "end_time": "2020-08-17T09:08:42.356318",
     "exception": false,
     "start_time": "2020-08-17T09:08:42.277185",
     "status": "completed"
    },
    "tags": []
   },
   "outputs": [],
   "source": [
    "class Fitter:\n",
    "    \"\"\"\n",
    "    \n",
    "    \n",
    "    \n",
    "    \"\"\"\n",
    "    \n",
    "    def __init__(self, model, device, config):\n",
    "        self.config = config\n",
    "        self.epoch = 0\n",
    "\n",
    "        self.base_dir = f'./{config.folder}'\n",
    "        if not os.path.exists(self.base_dir):\n",
    "            os.makedirs(self.base_dir)\n",
    "        \n",
    "        self.log_path = f'{self.base_dir}/log.txt'\n",
    "        self.best_summary_loss = 10**5\n",
    "        \n",
    "        self.model = model\n",
    "        self.device = device\n",
    "        self.use_amp = config.use_amp\n",
    "        self.accumulate_steps = config.accumulate_steps\n",
    "        self.model.to(self.device)\n",
    "        self.use_mixup = config.use_mixup\n",
    "        self.threshold = 0.5\n",
    "        \n",
    "        self.loss_fn = config.loss_fn\n",
    "        self.optimizer = torch.optim.Adam(model.parameters(), lr=config.lr, weight_decay=config.weight_decay)\n",
    "        \n",
    "        if self.use_amp:\n",
    "            self.model, self.optimizer = amp.initialize(self.model, self.optimizer, opt_level=\"O1\",verbosity=0)\n",
    "        self.scheduler = config.SchedulerClass(self.optimizer, **config.scheduler_params)\n",
    "        self.log(f'Fitter prepared. Device is {self.device}')\n",
    "\n",
    "    def fit(self, train_loader, validation_loader):\n",
    "        \n",
    "        best_epoch = 0\n",
    "        for e in range(self.config.n_epochs):\n",
    "            if self.config.verbose:\n",
    "                lr = self.optimizer.param_groups[0]['lr']\n",
    "                timestamp = datetime.utcnow().isoformat()\n",
    "                self.log(f'\\n{timestamp}\\nLR: {lr}')\n",
    "\n",
    "            t = time.time()\n",
    "            summary_loss = self.train_one_epoch(train_loader)\n",
    "\n",
    "            self.log(f'[RESULT]: Train. Epoch: {self.epoch}, summary_loss: {summary_loss.avg:.5f}, time: {(time.time() - t):.5f}')\n",
    "            self.save(f'{self.base_dir}/last-checkpoint.bin')\n",
    "\n",
    "            t = time.time()\n",
    "            summary_loss, score = self.validation(self.model, validation_loader)\n",
    "\n",
    "            self.log(f'[RESULT]: Val. Epoch: {self.epoch}, summary_loss: {summary_loss.avg:.5f}, val_score: {score:.5f}, time: {(time.time() - t):.5f}')\n",
    "            if summary_loss.avg < self.best_summary_loss:\n",
    "                self.best_summary_loss = summary_loss.avg\n",
    "                self.model.eval()\n",
    "                self.save(f'{self.base_dir}/best-checkpoint-{str(self.epoch).zfill(3)}epoch.bin')\n",
    "                for path in sorted(glob(f'{self.base_dir}/best-checkpoint-*epoch.bin'))[:-3]:\n",
    "                    os.remove(path)\n",
    "\n",
    "            if self.config.validation_scheduler:\n",
    "                self.scheduler.step()\n",
    "\n",
    "            self.epoch += 1\n",
    "            \n",
    "            \n",
    "    def validation(self, model, val_loader):\n",
    "        model.eval()\n",
    "        summary_loss = AverageMeter()\n",
    "        t = time.time()\n",
    "        pred_results  = []\n",
    "        origin_labels = []\n",
    "        \n",
    "        for step, (images, labels) in enumerate(val_loader):\n",
    "            if self.config.verbose:\n",
    "                if step % self.config.verbose_step == 0:\n",
    "                    print(\n",
    "                        f'Val Step {step}/{len(val_loader)}, ' + \\\n",
    "                        f'summary_loss: {summary_loss.avg:.5f}, ' + \\\n",
    "                        f'time: {(time.time() - t):.5f}', end='\\r'\n",
    "                    )\n",
    "            with torch.no_grad():\n",
    "                images = images.to(self.device).float()\n",
    "                labels = labels.to(self.device).float()\n",
    "                batch_size = images.shape[0]\n",
    "                output = self.model(images)\n",
    "                loss = self.loss_fn(output, labels)\n",
    "                \n",
    "                prediction = F.sigmoid(output)\n",
    "                proba = prediction.detach().cpu().numpy()\n",
    "                events = proba >= self.threshold\n",
    "                pred_labels = events.astype(np.int)\n",
    "                \n",
    "                pred_results.append(pred_labels)\n",
    "                origin_labels.append(labels.detach().cpu().numpy())\n",
    "                \n",
    "                summary_loss.update(loss.detach().item(), batch_size)\n",
    "            \n",
    "        pred_results = np.concatenate(pred_results)    \n",
    "        origin_labels = np.concatenate(origin_labels)\n",
    "        score = f1_score(origin_labels, pred_results, average='macro')\n",
    "\n",
    "        return summary_loss, score\n",
    "\n",
    "    def train_one_epoch(self, train_loader):\n",
    "        self.model.train()\n",
    "        summary_loss = AverageMeter()\n",
    "        t = time.time()\n",
    "        self.optimizer.zero_grad() #very important\n",
    "        for step, (images, labels) in enumerate(train_loader):\n",
    "            if self.config.verbose:\n",
    "                if step % self.config.verbose_step == 0:\n",
    "                    print(\n",
    "                        f'Train Step {step}/{len(train_loader)}, ' + \\\n",
    "                        f'summary_loss: {summary_loss.avg:.5f}, ' + \\\n",
    "                        f'time: {(time.time() - t):.5f}', end='\\r'\n",
    "                    )\n",
    "            \n",
    "            images = images.to(self.device).float()\n",
    "            labels = labels.to(self.device).float()\n",
    "            batch_size = images.size()[0]\n",
    "            if self.use_mixup: #using mixup\n",
    "                mixed_images, y_a, y_b, lam = self.mixup_data(images, labels)\n",
    "                output = self.model(mixed_images)\n",
    "                loss = self.mixup_criterion(output, y_a, y_b, lam)\n",
    "            else:\n",
    "                output = self.model(images)\n",
    "                loss = self.loss_fn(output, labels)\n",
    "\n",
    "            if self.use_amp:\n",
    "                with amp.scale_loss(loss, self.optimizer) as scaled_loss:\n",
    "                    scaled_loss.backward()\n",
    "            else:\n",
    "                loss.backward()\n",
    "            if (step+1) % self.accumulate_steps == 0: # Wait for several backward steps\n",
    "                self.optimizer.step()                 # Now we can do an optimizer step\n",
    "                self.optimizer.zero_grad()\n",
    "\n",
    "            summary_loss.update(loss.detach().item(), batch_size)\n",
    "\n",
    "            if self.config.step_scheduler:\n",
    "                self.scheduler.step()\n",
    "\n",
    "            \n",
    "        return summary_loss\n",
    "    \n",
    "    def save(self, path):\n",
    "        self.model.eval()\n",
    "        torch.save({'model_state_dict': self.model.state_dict()}, path)\n",
    "        \n",
    "    def log(self, message):\n",
    "        if self.config.verbose:\n",
    "            print(message)\n",
    "        with open(self.log_path, 'a+') as logger:\n",
    "            logger.write(f'{message}\\n')\n",
    "    \n",
    "\n",
    "    def mixup_data(self, x, y, alpha=1.0, use_cuda=True):\n",
    "        \"\"\"\n",
    "        https://github.com/facebookresearch/mixup-cifar10/blob/master/train.py\n",
    "        Returns mixed inputs, pairs of targets, and lambda\n",
    "        \n",
    "        \"\"\"\n",
    "        if alpha > 0:\n",
    "            lam = np.random.beta(alpha, alpha)\n",
    "        else:\n",
    "            lam = 1\n",
    "\n",
    "        batch_size = x.size()[0]\n",
    "        if use_cuda:\n",
    "            index = torch.randperm(batch_size).cuda()\n",
    "        else:\n",
    "            index = torch.randperm(batch_size)\n",
    "\n",
    "        mixed_x = lam * x + (1 - lam) * x[index, :]\n",
    "        y_a, y_b = y, y[index]\n",
    "        \n",
    "        return mixed_x, y_a, y_b, lam\n",
    "    \n",
    "    def mixup_criterion(self, pred, y_a, y_b, lam):\n",
    "        \"\"\"\n",
    "        https://github.com/facebookresearch/mixup-cifar10/blob/master/train.py\n",
    "        \"\"\"\n",
    "        return lam * self.loss_fn(pred, y_a) + (1 - lam) * self.loss_fn(pred, y_b)"
   ]
  },
  {
   "cell_type": "code",
   "execution_count": 24,
   "metadata": {
    "execution": {
     "iopub.execute_input": "2020-08-17T09:08:42.416546Z",
     "iopub.status.busy": "2020-08-17T09:08:42.415520Z",
     "iopub.status.idle": "2020-08-17T09:08:42.419214Z",
     "shell.execute_reply": "2020-08-17T09:08:42.418740Z"
    },
    "papermill": {
     "duration": 0.037261,
     "end_time": "2020-08-17T09:08:42.419316",
     "exception": false,
     "start_time": "2020-08-17T09:08:42.382055",
     "status": "completed"
    },
    "tags": []
   },
   "outputs": [],
   "source": [
    "def run_training(net, config):\n",
    "    device = torch.device('cuda:0')\n",
    "    net.to(device)\n",
    "    \n",
    "    train_dataset = birddataset(train_file_list, img_size=config.image_size)\n",
    "    validation_dataset = birddataset(val_file_list, img_size=config.image_size, test=True)\n",
    "    \n",
    "    train_loader = torch.utils.data.DataLoader(\n",
    "        train_dataset,\n",
    "        batch_size=config.batch_size,\n",
    "        shuffle=True,\n",
    "        pin_memory=False,\n",
    "        drop_last=True,\n",
    "        num_workers=config.num_workers,\n",
    "    )\n",
    "    val_loader = torch.utils.data.DataLoader(\n",
    "        validation_dataset, \n",
    "        batch_size=config.batch_size,\n",
    "        num_workers=config.num_workers,\n",
    "        shuffle=False,\n",
    "        pin_memory=False,\n",
    "    )\n",
    "\n",
    "    fitter = Fitter(model=net, device=device, config=config)\n",
    "    fitter.fit(train_loader, val_loader)"
   ]
  },
  {
   "cell_type": "markdown",
   "execution_count": null,
   "metadata": {
    "papermill": {
     "duration": 0.024906,
     "end_time": "2020-08-17T09:08:42.469189",
     "exception": false,
     "start_time": "2020-08-17T09:08:42.444283",
     "status": "completed"
    },
    "tags": []
   },
   "source": [
    "## Start Training"
   ]
  },
  {
   "cell_type": "code",
   "execution_count": 25,
   "metadata": {
    "execution": {
     "iopub.execute_input": "2020-08-17T09:08:42.531309Z",
     "iopub.status.busy": "2020-08-17T09:08:42.530648Z",
     "iopub.status.idle": "2020-08-17T11:21:08.037897Z",
     "shell.execute_reply": "2020-08-17T11:21:08.037266Z"
    },
    "papermill": {
     "duration": 7945.543755,
     "end_time": "2020-08-17T11:21:08.038023",
     "exception": false,
     "start_time": "2020-08-17T09:08:42.494268",
     "status": "completed"
    },
    "tags": []
   },
   "outputs": [
    {
     "name": "stdout",
     "output_type": "stream",
     "text": [
      "Fitter prepared. Device is cuda:0\n",
      "\n",
      "2020-08-17T09:08:47.800170\n",
      "LR: 0.0003\n",
      "[RESULT]: Train. Epoch: 0, summary_loss: 0.01522, time: 451.64534\n",
      "[RESULT]: Val. Epoch: 0, summary_loss: 0.00745, val_score: 0.69242, time: 92.38702\n",
      "\n",
      "2020-08-17T09:17:51.957656\n",
      "LR: 0.0002967221401100708\n",
      "[RESULT]: Train. Epoch: 1, summary_loss: 0.01521, time: 447.92732\n",
      "[RESULT]: Val. Epoch: 1, summary_loss: 0.00769, val_score: 0.60581, time: 94.95288\n",
      "\n",
      "2020-08-17T09:26:54.922100\n",
      "LR: 0.0002870318186463901\n",
      "[RESULT]: Train. Epoch: 2, summary_loss: 0.01530, time: 449.36739\n",
      "[RESULT]: Val. Epoch: 2, summary_loss: 0.00763, val_score: 0.65944, time: 91.70894\n",
      "\n",
      "2020-08-17T09:35:56.077223\n",
      "LR: 0.0002713525491562421\n",
      "[RESULT]: Train. Epoch: 3, summary_loss: 0.01509, time: 438.50236\n",
      "[RESULT]: Val. Epoch: 3, summary_loss: 0.00786, val_score: 0.62874, time: 90.75749\n",
      "\n",
      "2020-08-17T09:44:45.418403\n",
      "LR: 0.00025036959095382875\n",
      "[RESULT]: Train. Epoch: 4, summary_loss: 0.01518, time: 433.20113\n",
      "[RESULT]: Val. Epoch: 4, summary_loss: 0.00753, val_score: 0.65651, time: 91.61388\n",
      "\n",
      "2020-08-17T09:53:30.317181\n",
      "LR: 0.00022500000000000002\n",
      "[RESULT]: Train. Epoch: 5, summary_loss: 0.01508, time: 433.43626\n",
      "[RESULT]: Val. Epoch: 5, summary_loss: 0.00743, val_score: 0.67329, time: 93.46122\n",
      "\n",
      "2020-08-17T10:02:17.357752\n",
      "LR: 0.00019635254915624213\n",
      "[RESULT]: Train. Epoch: 6, summary_loss: 0.01510, time: 437.93550\n",
      "[RESULT]: Val. Epoch: 6, summary_loss: 0.00783, val_score: 0.65569, time: 90.18708\n",
      "\n",
      "2020-08-17T10:11:05.561130\n",
      "LR: 0.00016567926949014806\n",
      "[RESULT]: Train. Epoch: 7, summary_loss: 0.01495, time: 432.28837\n",
      "[RESULT]: Val. Epoch: 7, summary_loss: 0.00740, val_score: 0.69905, time: 91.02184\n",
      "\n",
      "2020-08-17T10:19:49.124002\n",
      "LR: 0.00013432073050985205\n",
      "[RESULT]: Train. Epoch: 8, summary_loss: 0.01469, time: 436.87757\n",
      "[RESULT]: Val. Epoch: 8, summary_loss: 0.00721, val_score: 0.68684, time: 93.32576\n",
      "\n",
      "2020-08-17T10:28:39.471470\n",
      "LR: 0.00010364745084375793\n",
      "[RESULT]: Train. Epoch: 9, summary_loss: 0.01478, time: 437.28179\n",
      "[RESULT]: Val. Epoch: 9, summary_loss: 0.00731, val_score: 0.66607, time: 91.41190\n",
      "\n",
      "2020-08-17T10:37:28.245907\n",
      "LR: 7.500000000000006e-05\n",
      "[RESULT]: Train. Epoch: 10, summary_loss: 0.01461, time: 434.62915\n",
      "[RESULT]: Val. Epoch: 10, summary_loss: 0.00694, val_score: 0.70799, time: 92.83283\n",
      "\n",
      "2020-08-17T10:46:15.883623\n",
      "LR: 4.963040904617133e-05\n",
      "[RESULT]: Train. Epoch: 11, summary_loss: 0.01430, time: 433.86677\n",
      "[RESULT]: Val. Epoch: 11, summary_loss: 0.00674, val_score: 0.71713, time: 91.61144\n",
      "\n",
      "2020-08-17T10:55:01.509248\n",
      "LR: 2.8647450843757904e-05\n",
      "[RESULT]: Train. Epoch: 12, summary_loss: 0.01440, time: 443.08068\n",
      "[RESULT]: Val. Epoch: 12, summary_loss: 0.00693, val_score: 0.70467, time: 90.15808\n",
      "\n",
      "2020-08-17T11:03:54.834587\n",
      "LR: 1.2968181353609857e-05\n",
      "[RESULT]: Train. Epoch: 13, summary_loss: 0.01436, time: 425.61417\n",
      "[RESULT]: Val. Epoch: 13, summary_loss: 0.00678, val_score: 0.71838, time: 90.20784\n",
      "\n",
      "2020-08-17T11:12:30.734086\n",
      "LR: 3.2778598899291478e-06\n",
      "[RESULT]: Train. Epoch: 14, summary_loss: 0.01455, time: 427.65251\n",
      "[RESULT]: Val. Epoch: 14, summary_loss: 0.00670, val_score: 0.71115, time: 89.49711\n"
     ]
    }
   ],
   "source": [
    "net = get_model(model_num=1, weight_path=\"../input/efficientnet-pytorch/efficientnet-b1-dbc7070a.pth\", num_classes=config.num_class)\n",
    "run_training(net, config)"
   ]
  },
  {
   "cell_type": "code",
   "execution_count": null,
   "metadata": {
    "papermill": {
     "duration": 0.482689,
     "end_time": "2020-08-17T11:21:09.073369",
     "exception": false,
     "start_time": "2020-08-17T11:21:08.590680",
     "status": "completed"
    },
    "tags": []
   },
   "outputs": [],
   "source": []
  }
 ],
 "metadata": {
  "kernelspec": {
   "display_name": "Python 3",
   "language": "python",
   "name": "python3"
  },
  "language_info": {
   "codemirror_mode": {
    "name": "ipython",
    "version": 3
   },
   "file_extension": ".py",
   "mimetype": "text/x-python",
   "name": "python",
   "nbconvert_exporter": "python",
   "pygments_lexer": "ipython3",
   "version": "3.7.6"
  },
  "papermill": {
   "duration": 8300.974338,
   "end_time": "2020-08-17T11:21:10.456606",
   "environment_variables": {},
   "exception": null,
   "input_path": "__notebook__.ipynb",
   "output_path": "__notebook__.ipynb",
   "parameters": {},
   "start_time": "2020-08-17T09:02:49.482268",
   "version": "2.1.0"
  }
 },
 "nbformat": 4,
 "nbformat_minor": 4
}
